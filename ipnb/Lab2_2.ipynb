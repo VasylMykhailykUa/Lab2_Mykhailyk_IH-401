{
  "cells": [
    {
      "cell_type": "markdown",
      "source": [
        "**Лабораторна робота №2**"
      ],
      "metadata": {
        "id": "qO51yBMwOilx"
      }
    },
    {
      "cell_type": "markdown",
      "source": [
        "Завдання 2.2. Порівняння якості класифікаторів SVM з нелінійними ядрами"
      ],
      "metadata": {
        "id": "8thuoBLiOkJY"
      }
    },
    {
      "cell_type": "code",
      "execution_count": 1,
      "metadata": {
        "id": "9xSP2ASdOY03"
      },
      "outputs": [],
      "source": [
        "import numpy as np\n",
        "import matplotlib.pyplot as plt\n",
        "from sklearn import preprocessing\n",
        "from sklearn.svm import LinearSVC, SVC\n",
        "from sklearn.multiclass import OneVsRestClassifier\n",
        "from sklearn.model_selection import train_test_split, cross_val_score\n",
        "from sklearn.metrics import accuracy_score, precision_score, recall_score, f1_score"
      ]
    },
    {
      "cell_type": "code",
      "execution_count": 2,
      "metadata": {
        "id": "hKI10qN2OY04"
      },
      "outputs": [],
      "source": [
        "#Вхідний файл, який містить дані\n",
        "input_file = '/content/income_data.txt'"
      ]
    },
    {
      "cell_type": "code",
      "execution_count": 3,
      "metadata": {
        "id": "z4c6qXZFOY04"
      },
      "outputs": [],
      "source": [
        "#Читання даних\n",
        "X = []\n",
        "y = []\n",
        "count_class1 = 0\n",
        "count_class2 = 0\n",
        "max_datapoints = 25000"
      ]
    },
    {
      "cell_type": "code",
      "execution_count": 4,
      "metadata": {
        "id": "oP-gg7RHOY04"
      },
      "outputs": [],
      "source": [
        "with open(input_file, 'r') as f:\n",
        "    for line in f.readlines():\n",
        "        if count_class1 >= max_datapoints and count_class2 >= max_datapoints:\n",
        "            break\n",
        "\n",
        "        if '?' in line:\n",
        "            continue\n",
        "\n",
        "        data = line[:-1].split(',')\n",
        "        # print(data)\n",
        "\n",
        "        if data[-1] == ' <=50K' and count_class1 < max_datapoints:\n",
        "            X.append(data)\n",
        "            count_class1 += 1\n",
        "\n",
        "        if data[-1] == ' >50K' and count_class2 < max_datapoints:\n",
        "            X.append(data)\n",
        "            count_class2 += 1"
      ]
    },
    {
      "cell_type": "code",
      "execution_count": 5,
      "metadata": {
        "id": "8ckl4tLzOY04"
      },
      "outputs": [],
      "source": [
        "# Перетворення на масив numpy\n",
        "X = np.array(X)"
      ]
    },
    {
      "cell_type": "code",
      "execution_count": 6,
      "metadata": {
        "id": "5uOvEp__OY04"
      },
      "outputs": [],
      "source": [
        "label_encoder = []\n",
        "X_encoded = np.empty(X.shape)\n",
        "for i, item in enumerate(X[0]):\n",
        "    if item.isdigit():\n",
        "        X_encoded[:, i] = X[:, i]\n",
        "    else:\n",
        "        label_encoder.append(preprocessing.LabelEncoder())\n",
        "        X_encoded[:, i] = label_encoder[-1].fit_transform(X[:, i])\n",
        "\n",
        "X = X_encoded[:, :-1].astype(int)\n",
        "y = X_encoded[:, -1].astype(int)"
      ]
    },
    {
      "cell_type": "code",
      "execution_count": 7,
      "metadata": {
        "colab": {
          "base_uri": "https://localhost:8080/"
        },
        "id": "YXypXUFZOY05",
        "outputId": "3453d1f6-0c65-4a3a-a4f9-a75e0b84c7e2"
      },
      "outputs": [
        {
          "output_type": "stream",
          "name": "stdout",
          "text": [
            "\n",
            "Classifier: Linear SVM\n",
            "F1: 74.32%\n",
            "Precision: 76.88%\n",
            "Accuracy: 78.34%\n",
            "Recall: 78.34%\n",
            "\n",
            "Classifier: RBF SVM\n",
            "F1: 63.80%\n",
            "Precision: 55.71%\n",
            "Accuracy: 74.64%\n",
            "Recall: 74.64%\n",
            "\n",
            "Classifier: Poly SVM (degree=3)\n",
            "F1: 63.80%\n",
            "Precision: 55.71%\n",
            "Accuracy: 74.64%\n",
            "Recall: 74.64%\n",
            "\n",
            "Classifier: Sigmoid SVM\n",
            "F1: 63.68%\n",
            "Precision: 63.56%\n",
            "Accuracy: 63.82%\n",
            "Recall: 63.82%\n"
          ]
        }
      ],
      "source": [
        "#Створення SVМ-класифікаторів\n",
        "classifiers = {\n",
        "    'Linear SVM': LinearSVC(random_state=0),\n",
        "    'RBF SVM': SVC(kernel='rbf', random_state=0),\n",
        "    'Poly SVM (degree=3)': SVC(kernel='poly', degree=3, random_state=0),\n",
        "    'Sigmoid SVM': SVC(kernel='sigmoid', random_state=0)\n",
        "}\n",
        "\n",
        "#Навчання класифікатора\n",
        "for classifier in classifiers.items():\n",
        "    print(f'\\nClassifier: {classifier[0]}')\n",
        "    clf = OneVsRestClassifier(classifier[1])\n",
        "    X_train, X_test, y_train, y_test = train_test_split(X, y, test_size=0.2, random_state=42)\n",
        "    clf.fit(X_train, y_train)\n",
        "    y_test_pred = clf.predict(X_test)\n",
        "\n",
        "    f1 = f1_score(y_test, y_test_pred, average='weighted')\n",
        "    precision = precision_score(y_test, y_test_pred, average='weighted', zero_division=0)\n",
        "    accuracy = accuracy_score(y_test, y_test_pred)\n",
        "    recall = recall_score(y_test, y_test_pred, average='weighted')\n",
        "\n",
        "    print(f'F1: {f1*100:.2f}%')\n",
        "    print(f'Precision: {precision*100:.2f}%')\n",
        "    print(f'Accuracy: {accuracy*100:.2f}%')\n",
        "    print(f'Recall: {recall*100:.2f}%')"
      ]
    },
    {
      "cell_type": "code",
      "execution_count": 8,
      "metadata": {
        "id": "fClI1CRDOY05"
      },
      "outputs": [],
      "source": [
        "# Передбачення результату для тестової точки даних\n",
        "input_data = ['37', ' Private', ' 215646', ' HS-grad', ' 9', ' Never-married', ' Handlers-cleaners', ' Not-in-family', ' White', ' Male', ' 0', ' 0', ' 40', ' United-States']\n"
      ]
    },
    {
      "cell_type": "code",
      "execution_count": 9,
      "metadata": {
        "id": "aLYkA0ZqOY05"
      },
      "outputs": [],
      "source": [
        "# Кодування тестової точки даних\n",
        "input_data_encoded = [-1] * len(input_data)\n",
        "count = 0\n",
        "for i, item in enumerate(input_data):\n",
        "    if item.isdigit():\n",
        "        input_data_encoded[i] = int(item)\n",
        "    else:\n",
        "        input_data_encoded[i] = label_encoder[count].transform([item])[0]\n",
        "        count += 1\n",
        "\n",
        "input_data_encoded = np.array(input_data_encoded).reshape(1, -1)"
      ]
    },
    {
      "cell_type": "code",
      "execution_count": 10,
      "metadata": {
        "colab": {
          "base_uri": "https://localhost:8080/"
        },
        "id": "7RElyJQuOY05",
        "outputId": "6115971f-6a65-4b58-bc05-ff2549746fed"
      },
      "outputs": [
        {
          "output_type": "stream",
          "name": "stdout",
          "text": [
            "\n",
            "Classifier: LinearSVC\n",
            " <=50K\n",
            "\n",
            "Classifier: SVC\n",
            " <=50K\n",
            "\n",
            "Classifier: SVC\n",
            " <=50K\n",
            "\n",
            "Classifier: SVC\n",
            " <=50K\n"
          ]
        }
      ],
      "source": [
        "for classifier in classifiers.values():\n",
        "    print(f'\\nClassifier: {classifier.__class__.__name__}')\n",
        "    classifier.fit(X, y)\n",
        "    predicted_class = classifier.predict(input_data_encoded)\n",
        "    print(label_encoder[-1].inverse_transform(predicted_class)[0])"
      ]
    }
  ],
  "metadata": {
    "kernelspec": {
      "display_name": "base",
      "language": "python",
      "name": "python3"
    },
    "language_info": {
      "codemirror_mode": {
        "name": "ipython",
        "version": 3
      },
      "file_extension": ".py",
      "mimetype": "text/x-python",
      "name": "python",
      "nbconvert_exporter": "python",
      "pygments_lexer": "ipython3",
      "version": "3.12.7"
    },
    "colab": {
      "provenance": []
    }
  },
  "nbformat": 4,
  "nbformat_minor": 0
}