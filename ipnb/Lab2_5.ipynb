{
  "cells": [
    {
      "cell_type": "markdown",
      "source": [
        "**Лабораторна №2**"
      ],
      "metadata": {
        "id": "fUbx4t3El643"
      }
    },
    {
      "cell_type": "markdown",
      "source": [
        "Завдання 2.5. Класифікація даних лінійним класифікатором Ridge"
      ],
      "metadata": {
        "id": "-xnQeo41l-JQ"
      }
    },
    {
      "cell_type": "code",
      "execution_count": 2,
      "metadata": {
        "id": "6Yj4RsQRlYRa"
      },
      "outputs": [],
      "source": [
        "# Імпортуємо необхідні бібліотеки\n",
        "import numpy as np\n",
        "from sklearn.datasets import load_iris\n",
        "from sklearn.linear_model import RidgeClassifier\n",
        "from sklearn.model_selection import train_test_split"
      ]
    },
    {
      "cell_type": "code",
      "execution_count": 3,
      "metadata": {
        "id": "If1gRVBulYRb"
      },
      "outputs": [],
      "source": [
        "# Завантажуємо датасет Iris\n",
        "iris = load_iris()"
      ]
    },
    {
      "cell_type": "code",
      "execution_count": 4,
      "metadata": {
        "id": "dS8H4vvelYRc"
      },
      "outputs": [],
      "source": [
        "# Розділяємо дані на ознаки (X) та цільові значення (y)\n",
        "X, y = iris.data, iris.target"
      ]
    },
    {
      "cell_type": "code",
      "execution_count": 5,
      "metadata": {
        "id": "ofdtGQovlYRc"
      },
      "outputs": [],
      "source": [
        "# Ділимо вибірку на тренувальну і тестову (70%/30%)\n",
        "X_train, X_test, y_train, y_test = train_test_split(X, y, test_size=0.3, random_state=0)"
      ]
    },
    {
      "cell_type": "code",
      "execution_count": 6,
      "metadata": {
        "id": "MnrHB019lYRc"
      },
      "outputs": [],
      "source": [
        "# Створюємо і навчаємо Ridge-класифікатор\n",
        "clf = RidgeClassifier(tol=1e-2, solver=\"sag\")\n",
        "clf.fit(X_train, y_train)\n",
        "\n",
        "# Робимо прогноз на тестовій вибірці\n",
        "y_pred = clf.predict(X_test)"
      ]
    },
    {
      "cell_type": "code",
      "execution_count": 7,
      "metadata": {
        "colab": {
          "base_uri": "https://localhost:8080/"
        },
        "id": "NdmTP2hnlYRd",
        "outputId": "0aff28cd-e215-4024-b727-f19d1bb93d0c"
      },
      "outputs": [
        {
          "output_type": "stream",
          "name": "stdout",
          "text": [
            "Accuracy: 0.7555555555555555\n",
            "Precision: 0.8333333333333334\n",
            "Recall: 0.7555555555555555\n",
            "F1 Score: 0.7502986857825567\n",
            "Cohen's Kappa: 0.6431146359048305\n",
            "Matthews Correlation Coefficient: 0.6830664115990899\n",
            "\t\tClassification Report:\n",
            "               precision    recall  f1-score   support\n",
            "\n",
            "           0       1.00      1.00      1.00        16\n",
            "           1       0.89      0.44      0.59        18\n",
            "           2       0.50      0.91      0.65        11\n",
            "\n",
            "    accuracy                           0.76        45\n",
            "   macro avg       0.80      0.78      0.75        45\n",
            "weighted avg       0.83      0.76      0.75        45\n",
            "\n"
          ]
        }
      ],
      "source": [
        "# Імпортуємо метрики для оцінювання моделі\n",
        "from sklearn.metrics import accuracy_score, precision_score, recall_score, f1_score, cohen_kappa_score, matthews_corrcoef, classification_report\n",
        "\n",
        "# Виводимо значення основних метрик якості класифікації\n",
        "print(\"Accuracy:\", accuracy_score(y_test, y_pred))\n",
        "print(\"Precision:\", precision_score(y_test, y_pred, average='weighted'))\n",
        "print(\"Recall:\", recall_score(y_test, y_pred, average='weighted'))\n",
        "print(\"F1 Score:\", f1_score(y_test, y_pred, average='weighted'))\n",
        "print(\"Cohen's Kappa:\", cohen_kappa_score(y_test, y_pred))\n",
        "print(\"Matthews Correlation Coefficient:\", matthews_corrcoef(y_test, y_pred))\n",
        "print(\"\\t\\tClassification Report:\\n\", classification_report(y_test, y_pred))"
      ]
    },
    {
      "cell_type": "code",
      "execution_count": null,
      "metadata": {
        "colab": {
          "base_uri": "https://localhost:8080/",
          "height": 489
        },
        "id": "EyxyjA3NlYRe",
        "outputId": "82650e1a-a84c-42e5-e784-29a52c16157d"
      },
      "outputs": [
        {
          "output_type": "execute_result",
          "data": {
            "text/plain": [
              "Text(0.5, 1.0, 'Confusion Matrix')"
            ]
          },
          "metadata": {},
          "execution_count": 8
        },
        {
          "output_type": "display_data",
          "data": {
            "text/plain": [
              "<Figure size 640x480 with 1 Axes>"
            ],
            "image/png": "[encoded data removed]"
          },
          "metadata": {}
        }
      ],
      "source": [
        "# Будуємо та візуалізуємо матрицю плутанини\n",
        "from sklearn.metrics import confusion_matrix\n",
        "import seaborn as sns\n",
        "import matplotlib.pyplot as plt\n",
        "\n",
        "mat = confusion_matrix(y_test, y_pred)\n",
        "sns.heatmap(mat.T, square = True, annot = True, fmt = 'd', cbar = False)\n",
        "plt.xlabel('True label')\n",
        "plt.ylabel('Predicted label')\n",
        "plt.title('Confusion Matrix')"
      ]
    },
    {
      "cell_type": "code",
      "execution_count": null,
      "metadata": {
        "id": "XenCftArlYRe"
      },
      "outputs": [],
      "source": []
    }
  ],
  "metadata": {
    "kernelspec": {
      "display_name": "base",
      "language": "python",
      "name": "python3"
    },
    "language_info": {
      "codemirror_mode": {
        "name": "ipython",
        "version": 3
      },
      "file_extension": ".py",
      "mimetype": "text/x-python",
      "name": "python",
      "nbconvert_exporter": "python",
      "pygments_lexer": "ipython3",
      "version": "3.12.7"
    },
    "colab": {
      "provenance": []
    }
  },
  "nbformat": 4,
  "nbformat_minor": 0
}