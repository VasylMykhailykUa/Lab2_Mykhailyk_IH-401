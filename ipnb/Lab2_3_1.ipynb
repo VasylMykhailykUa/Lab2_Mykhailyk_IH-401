{
  "cells": [
    {
      "cell_type": "markdown",
      "source": [
        "**Лабораторна №2**"
      ],
      "metadata": {
        "id": "Xi1NJz9-TS35"
      }
    },
    {
      "cell_type": "markdown",
      "source": [
        "Завдання 2.3. Порівняння якості класифікаторів на прикладі класифікації сортів ірисів\n",
        "\n",
        "КРОК 1. ЗАВАНТАЖЕННЯ ТА ВИВЧЕННЯ ДАНИХ"
      ],
      "metadata": {
        "id": "EpDsKGIqThDf"
      }
    },
    {
      "cell_type": "code",
      "execution_count": null,
      "metadata": {
        "id": "QzY0px0PTJe-"
      },
      "outputs": [],
      "source": [
        "# Імпортуємо набір даних Iris\n",
        "from sklearn.datasets import load_iris\n",
        "iris_dataset = load_iris()"
      ]
    },
    {
      "cell_type": "code",
      "execution_count": null,
      "metadata": {
        "colab": {
          "base_uri": "https://localhost:8080/"
        },
        "id": "Dzv3gF-qTJfA",
        "outputId": "c3bdba31-3449-4fee-cf11-9b602e338d0e"
      },
      "outputs": [
        {
          "output_type": "stream",
          "name": "stdout",
          "text": [
            "Ключі iris dataset: \n",
            "dict_keys(['data', 'target', 'frame', 'target_names', 'DESCR', 'feature_names', 'filename', 'data_module'])\n"
          ]
        }
      ],
      "source": [
        "# Виводимо ключі словника з даними\n",
        "print('Ключі iris dataset: \\n{}'.format(iris_dataset.keys()))"
      ]
    },
    {
      "cell_type": "code",
      "execution_count": null,
      "metadata": {
        "colab": {
          "base_uri": "https://localhost:8080/"
        },
        "id": "vw_nAAWjTJfB",
        "outputId": "07e40de9-3f36-4530-ea35-cd70ea181e98"
      },
      "outputs": [
        {
          "output_type": "stream",
          "name": "stdout",
          "text": [
            ".. _iris_dataset:\n",
            "\n",
            "Iris plants dataset\n",
            "--------------------\n",
            "\n",
            "**Data Set Characteristics:**\n",
            "\n",
            ":Number of Instances: 150 (50 in each of three classes)\n",
            ":Number of Attributes: 4 numeric, predictive \n",
            "...\n"
          ]
        }
      ],
      "source": [
        "# Виводимо частину опису датасету\n",
        "print(iris_dataset['DESCR'][:193] + \"\\n...\")"
      ]
    },
    {
      "cell_type": "code",
      "execution_count": null,
      "metadata": {
        "colab": {
          "base_uri": "https://localhost:8080/"
        },
        "id": "uSpE3PDcTJfC",
        "outputId": "7050490d-ec4f-459f-c2c6-eab64972b0a1"
      },
      "outputs": [
        {
          "output_type": "stream",
          "name": "stdout",
          "text": [
            "Назви відповідей: ['setosa' 'versicolor' 'virginica']\n"
          ]
        }
      ],
      "source": [
        "# Виводимо назви класів (відповідей)\n",
        "print('Назви відповідей: {}'.format(iris_dataset['target_names']))"
      ]
    },
    {
      "cell_type": "code",
      "execution_count": null,
      "metadata": {
        "colab": {
          "base_uri": "https://localhost:8080/"
        },
        "id": "ducmgj1fTJfD",
        "outputId": "b9ba15e5-27f2-48c7-8623-2a591b4b9314"
      },
      "outputs": [
        {
          "output_type": "stream",
          "name": "stdout",
          "text": [
            "Назви ознак: ['sepal length (cm)', 'sepal width (cm)', 'petal length (cm)', 'petal width (cm)']\n"
          ]
        }
      ],
      "source": [
        "# Виводимо назви ознак (характеристик)\n",
        "print('Назви ознак: {}'.format(iris_dataset['feature_names']))"
      ]
    },
    {
      "cell_type": "code",
      "execution_count": null,
      "metadata": {
        "colab": {
          "base_uri": "https://localhost:8080/"
        },
        "id": "t1mG34QFTJfD",
        "outputId": "357efae6-347b-4ea7-e694-fa47c2068f72"
      },
      "outputs": [
        {
          "output_type": "stream",
          "name": "stdout",
          "text": [
            "Тип масиву data: <class 'numpy.ndarray'>\n"
          ]
        }
      ],
      "source": [
        "# Виводимо тип об'єкта з ознаками\n",
        "print('Тип масиву data: {}'.format(type(iris_dataset['data'])))"
      ]
    },
    {
      "cell_type": "code",
      "execution_count": null,
      "metadata": {
        "colab": {
          "base_uri": "https://localhost:8080/"
        },
        "id": "m7r7UVm5TJfE",
        "outputId": "37f2a746-468c-48c9-9e8e-37990db7cabd"
      },
      "outputs": [
        {
          "output_type": "stream",
          "name": "stdout",
          "text": [
            "Форма масиву data: (150, 4)\n"
          ]
        }
      ],
      "source": [
        "# Виводимо розмірність масиву з ознаками\n",
        "print('Форма масиву data: {}'.format(iris_dataset['data'].shape))"
      ]
    },
    {
      "cell_type": "code",
      "execution_count": null,
      "metadata": {
        "colab": {
          "base_uri": "https://localhost:8080/"
        },
        "id": "FKsdIZfiTJfE",
        "outputId": "c3728f98-c589-4950-8d27-6513e0c9db2b"
      },
      "outputs": [
        {
          "output_type": "stream",
          "name": "stdout",
          "text": [
            "Перші п’ять рядків масиву data:\n",
            "[[5.1 3.5 1.4 0.2]\n",
            " [4.9 3.  1.4 0.2]\n",
            " [4.7 3.2 1.3 0.2]\n",
            " [4.6 3.1 1.5 0.2]\n",
            " [5.  3.6 1.4 0.2]]\n"
          ]
        }
      ],
      "source": [
        "# Виводимо перші 5 прикладів з даними\n",
        "print('Перші п’ять рядків масиву data:\\n{}'.format(iris_dataset['data'][:5]))"
      ]
    },
    {
      "cell_type": "code",
      "execution_count": null,
      "metadata": {
        "colab": {
          "base_uri": "https://localhost:8080/"
        },
        "id": "0IFojEAsTJfF",
        "outputId": "f9c74b4f-6952-43b4-d21b-9e779ae09f66"
      },
      "outputs": [
        {
          "output_type": "stream",
          "name": "stdout",
          "text": [
            "Тип масиву target: <class 'numpy.ndarray'>\n"
          ]
        }
      ],
      "source": [
        "# Виводимо тип об'єкта з мітками класів\n",
        "print('Тип масиву target: {}'.format(type(iris_dataset['target'])))"
      ]
    },
    {
      "cell_type": "code",
      "execution_count": null,
      "metadata": {
        "colab": {
          "base_uri": "https://localhost:8080/"
        },
        "id": "Vkt3u-2YTJfF",
        "outputId": "005034d5-3017-476f-cc6b-9f9ab148e743"
      },
      "outputs": [
        {
          "output_type": "stream",
          "name": "stdout",
          "text": [
            "Відповіді: [0 0 0 0 0 0 0 0 0 0 0 0 0 0 0 0 0 0 0 0 0 0 0 0 0 0 0 0 0 0 0 0 0 0 0 0 0\n",
            " 0 0 0 0 0 0 0 0 0 0 0 0 0 1 1 1 1 1 1 1 1 1 1 1 1 1 1 1 1 1 1 1 1 1 1 1 1\n",
            " 1 1 1 1 1 1 1 1 1 1 1 1 1 1 1 1 1 1 1 1 1 1 1 1 1 1 2 2 2 2 2 2 2 2 2 2 2\n",
            " 2 2 2 2 2 2 2 2 2 2 2 2 2 2 2 2 2 2 2 2 2 2 2 2 2 2 2 2 2 2 2 2 2 2 2 2 2\n",
            " 2 2]\n"
          ]
        }
      ],
      "source": [
        "# Виводимо всі мітки класів\n",
        "print('Відповіді: {}'.format(iris_dataset['target']))"
      ]
    },
    {
      "cell_type": "code",
      "execution_count": null,
      "metadata": {
        "id": "VE17ZwXOTJfG"
      },
      "outputs": [],
      "source": []
    }
  ],
  "metadata": {
    "kernelspec": {
      "display_name": "base",
      "language": "python",
      "name": "python3"
    },
    "language_info": {
      "codemirror_mode": {
        "name": "ipython",
        "version": 3
      },
      "file_extension": ".py",
      "mimetype": "text/x-python",
      "name": "python",
      "nbconvert_exporter": "python",
      "pygments_lexer": "ipython3",
      "version": "3.12.7"
    },
    "colab": {
      "provenance": []
    }
  },
  "nbformat": 4,
  "nbformat_minor": 0
}